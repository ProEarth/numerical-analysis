{
  "nbformat": 4,
  "nbformat_minor": 0,
  "metadata": {
    "colab": {
      "provenance": [],
      "include_colab_link": true
    },
    "kernelspec": {
      "name": "python3",
      "display_name": "Python 3"
    },
    "language_info": {
      "name": "python"
    }
  },
  "cells": [
    {
      "cell_type": "markdown",
      "metadata": {
        "id": "view-in-github",
        "colab_type": "text"
      },
      "source": [
        "<a href=\"https://colab.research.google.com/github/ProEarth/numerical-analysis/blob/master/Intro_to_Daft.ipynb\" target=\"_parent\"><img src=\"https://colab.research.google.com/assets/colab-badge.svg\" alt=\"Open In Colab\"/></a>"
      ]
    },
    {
      "cell_type": "markdown",
      "source": [
        "# Directed Acyclic Graphs\n",
        "\n",
        "Here are three *Directed Acyclic Graphs* (DAGs) depicting a fascinating story about how we lost the cure to scurvy (\n",
        "*Scurvy is a disease that leads bleeding gums and poor wound healing. If left untreated, scurvy can be fatal. It was historically common among sailors on long voyages*):\n",
        "\n",
        "Scurvy was reliably curable in 1747 based on this understanding of the *data generating process* i.e. a model of explaining the observed data on whether sailors got or did not get scurvy:\n",
        "\n",
        "![](https://raw.githubusercontent.com/flyaflya/persuasive/642288ea5f79050c05801c3d127084ac0f361a01/images/scurvy2.png)\n",
        "\n",
        "However, over time, a belief - rooted in an old rule of thumb for sailors - led people to believe it was the acid in the lemons that kill the bacteria in the food that led scurvy.  This was the belief that prevailed:\n",
        "\n",
        "![](https://raw.githubusercontent.com/flyaflya/persuasive/8aaffd0a3c967d0a26f506232f998130847be3e8/images/scurvy.png)\n",
        "\n",
        "However, sadly that belief led to lemons being replaced by limes (cheaper, but less Vitamin C which proves to be the actual curative treatment) or just using acids like vinegar on food and scurvy returned to sailors on long missions.\n",
        "\n",
        "In 1928,  we refined our understanding of the scurvy data generating process further:\n",
        "\n",
        "![](https://raw.githubusercontent.com/flyaflya/persuasive/main/images/scurvy3.png)\n",
        "\n",
        "\n"
      ],
      "metadata": {
        "id": "BvrZKDop3WZ0"
      }
    },
    {
      "cell_type": "markdown",
      "source": [
        "Superficially, DAGs are aesthetically pleasing combinations of ellipses, rectangles, and text.  During our course, we will learn they are rigorous representations of data-generating processes that are simultaneously understandable by non-technical stakeholders and rigorously defined so that we can represent data-generating processes in computer code.\n",
        "\n",
        "For now, we will just learn about Python by drawing superficially pleasing DAGs."
      ],
      "metadata": {
        "id": "d3vH1-Nj4Sys"
      }
    },
    {
      "cell_type": "markdown",
      "source": [
        "# Packages in Colab\n",
        "\n",
        "We will use the `daft` package to draw DAGs.  Colab comes preconfigured with lots of great data science packages - `daft` is not one of them.  However, the primary reason we are using Colab is that it greatly simplifies package installation and maintenance for us, sometimes an enormous source of pain.  \n",
        "\n",
        "![](https://preview.redd.it/2o8wlapqk5h31.png?width=492&format=png&auto=webp&s=aff6c993cdfcceff2080731993ef6ba6ec67af25)\n",
        "\n",
        "If we were to google \"list installed packages python\", we would inevitably find this command can help:\n",
        "\n",
        "```\n",
        "pip list\n",
        "```\n",
        "\n",
        "*([sample instructions from Internet](https://www.activestate.com/resources/quick-reads/how-to-list-installed-python-packages/) )*\n",
        "\n",
        "Gemini AI is probably even more capable of just getting us the answer we need.\n",
        "\n",
        "So, let's try `pip list`, but we put an exclamation point in front of it to tell Colab that THIS IS A COMMAND LINE TOOL which we want executed on the operating system.  Skim through [\"Data Science at The Command Line\"](https://datascienceatthecommandline.com/2e/) to learn more.  Now, we move on to using `pip list`."
      ],
      "metadata": {
        "id": "9ooZs6xn5x8T"
      }
    },
    {
      "cell_type": "code",
      "source": [
        "# install daft package\n",
        "# suppress output using %%capture if you want by uncommenting line\n",
        "# %%capture\n",
        "!pip install daft"
      ],
      "metadata": {
        "id": "0gxEfa9cjg4D"
      },
      "execution_count": null,
      "outputs": []
    },
    {
      "cell_type": "code",
      "execution_count": null,
      "metadata": {
        "id": "9vjUZi5b2pjr"
      },
      "outputs": [],
      "source": [
        "!pip list #use ! to run shell commands, i.e. not python, operating system / terminal / shell types of commands\n",
        "# see here for more info: https://www.reddit.com/r/learnprogramming/comments/6xr0l9/whats_the_difference_between_terminal_shell/"
      ]
    },
    {
      "cell_type": "markdown",
      "source": [
        "Notice, `daft==0.1.2` is installed.  Great, let's use it!!!\n",
        "\n",
        "# First Attempt To Use `daft`\n",
        "\n",
        "In order to use the package, let's find the documentation and try it out!  Below is some sample code from [the `daft` documentation](https://docs.daft-pgm.org/en/latest/examples/classic/):"
      ],
      "metadata": {
        "id": "2DFt0EH1AWQ1"
      }
    },
    {
      "cell_type": "code",
      "source": [
        "import daft\n",
        "\n",
        "# Instantiate the PGM.\n",
        "pgm = daft.PGM()\n",
        "\n",
        "# Hierarchical parameters.\n",
        "pgm.add_node(\"alpha\", r\"$\\alpha$\", 0.5, 2, fixed=True)\n",
        "pgm.add_node(\"beta\", r\"$\\beta$\", 1.5, 2)\n",
        "\n",
        "# Latent variable.\n",
        "pgm.add_node(\"w\", r\"$w_n$\", 1, 1)\n",
        "\n",
        "# Data.\n",
        "pgm.add_node(\"x\", r\"$x_n$\", 2, 1, observed=True)\n",
        "\n",
        "# Add in the edges.\n",
        "pgm.add_edge(\"alpha\", \"beta\")\n",
        "pgm.add_edge(\"beta\", \"w\")\n",
        "pgm.add_edge(\"w\", \"x\")\n",
        "pgm.add_edge(\"beta\", \"x\")\n",
        "\n",
        "# And a plate.\n",
        "pgm.add_plate([0.5, 0.5, 2, 1], label=r\"$n = 1, \\cdots, N$\", shift=-0.1)\n",
        "\n",
        "# Render and save.\n",
        "pgm.render()"
      ],
      "metadata": {
        "id": "Kv54cHBlA_DD"
      },
      "execution_count": null,
      "outputs": []
    },
    {
      "cell_type": "markdown",
      "source": [
        "You will see the code works!!  Yay.  I am a wizard.\n",
        "![](https://www.cnet.com/a/img/resize/0165e20206047e2ebe322821b4fea5fdff7f3061/hub/2014/12/01/89601d70-ca65-4dc7-adfe-f6dbd46d05ba/hobbit-lotr-5-armies-gandalf-hat.jpg?auto=webp&fit=crop&height=675&width=1200)"
      ],
      "metadata": {
        "id": "vWEnA04eFJ3V"
      }
    },
    {
      "cell_type": "markdown",
      "source": [
        "Back to the example code:\n"
      ],
      "metadata": {
        "id": "WyoF6JP_F4c4"
      }
    },
    {
      "cell_type": "code",
      "source": [
        "## to get it bigger, change the dpi argument.\n",
        "## See help documentation here: https://docs.daft-pgm.org/en/latest/api/#the-rendering-context\n",
        "pgm.render(dpi=300)"
      ],
      "metadata": {
        "id": "mRiWbae4GhB6"
      },
      "execution_count": null,
      "outputs": []
    },
    {
      "cell_type": "markdown",
      "source": [
        "My picture does not display the full image.  Something is wrong.  Let's see if AI can help?"
      ],
      "metadata": {
        "id": "kksa_UzE7i3E"
      }
    },
    {
      "cell_type": "code",
      "source": [
        "# Render and save.\n",
        "pgm.render()\n",
        "\n",
        "# Display the rendered image using IPython.display.Image\n",
        "from IPython.display import Image\n",
        "Image(pgm.figure.savefig(format='png', bbox_inches='tight'))"
      ],
      "metadata": {
        "id": "i1zdS2rm7uRV"
      },
      "execution_count": null,
      "outputs": []
    },
    {
      "cell_type": "code",
      "source": [
        "# the real fix is to add a semi-colon to suppress the text output for matplotlib\n",
        "pgm.render(dpi=150);"
      ],
      "metadata": {
        "id": "fSMhcTkr9yyD"
      },
      "execution_count": null,
      "outputs": []
    },
    {
      "cell_type": "markdown",
      "source": [
        "This is very unsatisfying.... AI is wonderful with really popular and mature things, less so with new things that are not represented in the training data and also less so with just thinking logically sometimes.  "
      ],
      "metadata": {
        "id": "r8GnxbDN8B86"
      }
    },
    {
      "cell_type": "markdown",
      "source": [
        "**I HATE COMPUTERS RIGHT NOW --- CAN'T THEY JUST DO WHAT I SAY!!!!**\n",
        "\n",
        "![](https://media.giphy.com/media/3oFzmqXMDtHH8vEVhe/giphy.gif)\n"
      ],
      "metadata": {
        "id": "7-DGPJP9BEA1"
      }
    },
    {
      "cell_type": "code",
      "source": [
        "## note, this is an object-oriented workflow\n",
        "## there is object called pgm\n",
        "## we can see it of the daft.PGM type(class types are often capitalized)\n",
        "type(pgm.render(dpi=150))"
      ],
      "metadata": {
        "id": "XoGEuUsiIlyK"
      },
      "execution_count": null,
      "outputs": []
    },
    {
      "cell_type": "code",
      "source": [
        "# prompt: pgm.render(dpi=150) gives a matplotlib object that is not fully displaying the entire figure in google colab.  Any ideas why?\n",
        "\n",
        "# ... (Your existing code) ...\n",
        "\n",
        "# Render and save.\n",
        "# Instead of pgm.render(), use pgm.figure.savefig() directly to save the figure.\n",
        "pgm.render(dpi=150)\n",
        "pgm.figure.savefig('my_dag.png', bbox_inches='tight')\n",
        "\n",
        "# Display the saved image using IPython.display.Image\n",
        "from IPython.display import Image\n",
        "Image('my_dag.png')\n",
        "\n",
        "# ... (Rest of your code) ..."
      ],
      "metadata": {
        "id": "g9iiB6i6_tf-"
      },
      "execution_count": null,
      "outputs": []
    },
    {
      "cell_type": "markdown",
      "source": [
        "**I HATE COMPUTERS RIGHT NOW --- CAN'T THEY JUST DO WHAT I SAY!!!!**\n",
        "\n",
        "![](https://media.giphy.com/media/3oFzmqXMDtHH8vEVhe/giphy.gif)\n"
      ],
      "metadata": {
        "id": "c48QDfM4AZ5w"
      }
    },
    {
      "cell_type": "code",
      "source": [
        "## AFTER 16 DAYS AND 5,200 SEARCHES OF THE INTERNET\n",
        "## I learned to suppress the output using a semi-colon\n",
        "## and this leads to the proper sizing of the cell\n",
        "pgm.render(dpi=150);"
      ],
      "metadata": {
        "id": "lVa6mvwkBRI-"
      },
      "execution_count": null,
      "outputs": []
    },
    {
      "cell_type": "code",
      "source": [
        "# @title Productive Struggle\n",
        "from IPython.display import YouTubeVideo, display, HTML\n",
        "\n",
        "video_id = \"ykb8h7Wrt2Q\"\n",
        "start_time = 346\n",
        "width = 800\n",
        "height = 600\n",
        "\n",
        "video_html = f\"\"\"\n",
        "<iframe\n",
        "    width=\"{width}\"\n",
        "    height=\"{height}\"\n",
        "    src=\"https://www.youtube.com/embed/{video_id}?start={start_time}\"\n",
        "    frameborder=\"0\"\n",
        "    allowfullscreen\n",
        ">\n",
        "</iframe>\n",
        "\"\"\"\n",
        "\n",
        "display(HTML(video_html))"
      ],
      "metadata": {
        "colab": {
          "base_uri": "https://localhost:8080/",
          "height": 621
        },
        "cellView": "form",
        "id": "PALd-lrxCqO3",
        "outputId": "a821c9fd-7884-4c2c-ab58-b86224c751ee"
      },
      "execution_count": null,
      "outputs": [
        {
          "output_type": "display_data",
          "data": {
            "text/plain": [
              "<IPython.core.display.HTML object>"
            ],
            "text/html": [
              "\n",
              "<iframe \n",
              "    width=\"800\" \n",
              "    height=\"600\" \n",
              "    src=\"https://www.youtube.com/embed/ykb8h7Wrt2Q?start=346\" \n",
              "    frameborder=\"0\" \n",
              "    allowfullscreen\n",
              ">\n",
              "</iframe>\n"
            ]
          },
          "metadata": {}
        }
      ]
    },
    {
      "cell_type": "markdown",
      "source": [
        "## Tip: Keyboard Shortcuts for Auto-Complete and Comments\n",
        "\n",
        "You can use auto-complete to see methods by typing `pgm.` and waiting for a pop-up list of methods.  Note: code completions and documentation hints occur automatically while you type.\n",
        "\n",
        "Use the following keyboard shortcuts:\n",
        " - `Ctrl-space` to re-open completions.\n",
        " - `Ctrl-shift-space` to re-open parameter hints.\n",
        "\n",
        "Also,\n",
        " - `Ctrl-/` comments and uncomments lines."
      ],
      "metadata": {
        "id": "ClbgEUvgJVKq"
      }
    },
    {
      "cell_type": "code",
      "source": [
        "pgm."
      ],
      "metadata": {
        "id": "QAH8DA_PJhaa"
      },
      "execution_count": null,
      "outputs": []
    },
    {
      "cell_type": "markdown",
      "source": [
        "# Your Turn To Try To Figure Things Out\n",
        "\n",
        "Use the documentation available at https://docs.daft-pgm.org/en/latest/api/ to figure out how to reproduce these two images:\n",
        "\n",
        "![](https://raw.githubusercontent.com/flyaflya/persuasive/main/images/fig-newsvOval-1.png) ![](https://raw.githubusercontent.com/flyaflya/persuasive/main/images/fig-newsvRect-3.png)"
      ],
      "metadata": {
        "id": "8nWggst0KheL"
      }
    },
    {
      "cell_type": "code",
      "source": [
        "## here is some skeleton code to get started\n",
        "# Instantiate the PGM.\n",
        "pgm = daft.PGM()\n",
        "\n",
        "# Hierarchical parameters.\n",
        "nodeNameString = \"I AM NODE\\n\" + r\"$(N)$\"\n",
        "pgm.add_node(node = \"node\", content = nodeNameString, x = 0.5, y = 2, scale = 4)\n",
        "pgm.add_node(node = \"node2\", content = \"Other Node\", x = 2.4, y = 2, aspect = 2)\n",
        "\n",
        "# show pgm\n",
        "pgm.show()"
      ],
      "metadata": {
        "id": "sas0mtwQLiZU"
      },
      "execution_count": null,
      "outputs": []
    },
    {
      "cell_type": "code",
      "source": [
        "!pip install daft"
      ],
      "metadata": {
        "id": "syFnFJzq6IJJ",
        "outputId": "2aec9f90-8403-4fad-a932-0ba21b81cad0",
        "colab": {
          "base_uri": "https://localhost:8080/"
        }
      },
      "execution_count": 3,
      "outputs": [
        {
          "output_type": "stream",
          "name": "stdout",
          "text": [
            "Collecting daft\n",
            "  Downloading daft-0.1.2-py3-none-any.whl.metadata (1.4 kB)\n",
            "Requirement already satisfied: matplotlib in /usr/local/lib/python3.11/dist-packages (from daft) (3.10.0)\n",
            "Requirement already satisfied: numpy in /usr/local/lib/python3.11/dist-packages (from daft) (1.26.4)\n",
            "Requirement already satisfied: setuptools in /usr/local/lib/python3.11/dist-packages (from daft) (75.1.0)\n",
            "Requirement already satisfied: contourpy>=1.0.1 in /usr/local/lib/python3.11/dist-packages (from matplotlib->daft) (1.3.1)\n",
            "Requirement already satisfied: cycler>=0.10 in /usr/local/lib/python3.11/dist-packages (from matplotlib->daft) (0.12.1)\n",
            "Requirement already satisfied: fonttools>=4.22.0 in /usr/local/lib/python3.11/dist-packages (from matplotlib->daft) (4.55.8)\n",
            "Requirement already satisfied: kiwisolver>=1.3.1 in /usr/local/lib/python3.11/dist-packages (from matplotlib->daft) (1.4.8)\n",
            "Requirement already satisfied: packaging>=20.0 in /usr/local/lib/python3.11/dist-packages (from matplotlib->daft) (24.2)\n",
            "Requirement already satisfied: pillow>=8 in /usr/local/lib/python3.11/dist-packages (from matplotlib->daft) (11.1.0)\n",
            "Requirement already satisfied: pyparsing>=2.3.1 in /usr/local/lib/python3.11/dist-packages (from matplotlib->daft) (3.2.1)\n",
            "Requirement already satisfied: python-dateutil>=2.7 in /usr/local/lib/python3.11/dist-packages (from matplotlib->daft) (2.8.2)\n",
            "Requirement already satisfied: six>=1.5 in /usr/local/lib/python3.11/dist-packages (from python-dateutil>=2.7->matplotlib->daft) (1.17.0)\n",
            "Downloading daft-0.1.2-py3-none-any.whl (11 kB)\n",
            "Installing collected packages: daft\n",
            "Successfully installed daft-0.1.2\n"
          ]
        }
      ]
    },
    {
      "cell_type": "code",
      "source": [
        "# prompt: !pip install daft\n",
        "\n",
        "# daft is already installed in the previous code block\n",
        "# You can directly use it here.\n",
        "\n",
        "import daft\n",
        "from IPython.display import Image\n",
        "\n",
        "# Instantiate the PGM.\n",
        "pgm = daft.PGM()\n",
        "\n",
        "# Hierarchical parameters.\n",
        "nodeNameString = \"I AM NODE\\n\" + r\"$(N)$\"\n",
        "pgm.add_node(node=\"node\", content=nodeNameString, x=0.5, y=2, scale=4)\n",
        "pgm.add_node(node=\"node2\", content=\"Other Node\", x=2.4, y=2, aspect=2)\n",
        "\n",
        "# show pgm\n",
        "pgm.render();\n",
        "Image(pgm.figure.savefig(format='png', bbox_inches='tight'))\n"
      ],
      "metadata": {
        "id": "7NzDgFJe6FhX",
        "outputId": "9a668bc8-f6a6-4cce-95fa-dba6dac092db",
        "colab": {
          "base_uri": "https://localhost:8080/",
          "height": 373
        }
      },
      "execution_count": 4,
      "outputs": [
        {
          "output_type": "error",
          "ename": "TypeError",
          "evalue": "Figure.savefig() missing 1 required positional argument: 'fname'",
          "traceback": [
            "\u001b[0;31m---------------------------------------------------------------------------\u001b[0m",
            "\u001b[0;31mTypeError\u001b[0m                                 Traceback (most recent call last)",
            "\u001b[0;32m<ipython-input-4-321b0207f120>\u001b[0m in \u001b[0;36m<cell line: 0>\u001b[0;34m()\u001b[0m\n\u001b[1;32m     17\u001b[0m \u001b[0;31m# show pgm\u001b[0m\u001b[0;34m\u001b[0m\u001b[0;34m\u001b[0m\u001b[0m\n\u001b[1;32m     18\u001b[0m \u001b[0mpgm\u001b[0m\u001b[0;34m.\u001b[0m\u001b[0mrender\u001b[0m\u001b[0;34m(\u001b[0m\u001b[0;34m)\u001b[0m\u001b[0;34m;\u001b[0m\u001b[0;34m\u001b[0m\u001b[0;34m\u001b[0m\u001b[0m\n\u001b[0;32m---> 19\u001b[0;31m \u001b[0mImage\u001b[0m\u001b[0;34m(\u001b[0m\u001b[0mpgm\u001b[0m\u001b[0;34m.\u001b[0m\u001b[0mfigure\u001b[0m\u001b[0;34m.\u001b[0m\u001b[0msavefig\u001b[0m\u001b[0;34m(\u001b[0m\u001b[0mformat\u001b[0m\u001b[0;34m=\u001b[0m\u001b[0;34m'png'\u001b[0m\u001b[0;34m,\u001b[0m \u001b[0mbbox_inches\u001b[0m\u001b[0;34m=\u001b[0m\u001b[0;34m'tight'\u001b[0m\u001b[0;34m)\u001b[0m\u001b[0;34m)\u001b[0m\u001b[0;34m\u001b[0m\u001b[0;34m\u001b[0m\u001b[0m\n\u001b[0m",
            "\u001b[0;31mTypeError\u001b[0m: Figure.savefig() missing 1 required positional argument: 'fname'"
          ]
        },
        {
          "output_type": "display_data",
          "data": {
            "text/plain": [
              "<Figure size 283.465x173.228 with 1 Axes>"
            ],
            "image/png": "[encoded data removed]"
          },
          "metadata": {}
        }
      ]
    },
    {
      "cell_type": "code",
      "source": [
        "## here is some skeleton code to get started\n",
        "# Instantiate the PGM.\n",
        "import daft\n",
        "\n",
        "pgm = daft.PGM()\n",
        "\n",
        "# Hierarchical parameters.\n",
        "# Add \"Demand\" node (ellipse shape)\n",
        "pgm.add_node(\"Demand\", \"Demand $(D)$\", 1, 1, shape=\"ellipse\",aspect=2.5,plot_params={\"fc\": \"lightblue\"},scale=2)\n",
        "\n",
        "# Add \"Order Qty.\" node (rectangle shape)\n",
        "pgm.add_node(\"OrderQty\", \"Order Qty.\\n $(Q)$\", 5, 1, shape=\"rectangle\",plot_params={\"fc\": \"lightpink\"},aspect=4)\n",
        "\n",
        "# show pgm\n",
        "pgm.show()"
      ],
      "metadata": {
        "id": "PpsQ_Eo75w-a",
        "outputId": "05cb7d3a-2a22-4c58-eb45-7bf5d8d723db",
        "colab": {
          "base_uri": "https://localhost:8080/",
          "height": 131
        }
      },
      "execution_count": 21,
      "outputs": [
        {
          "output_type": "display_data",
          "data": {
            "text/plain": [
              "<Figure size 507.874x94.4882 with 1 Axes>"
            ],
            "image/png": "[encoded data removed]"
          },
          "metadata": {}
        }
      ]
    }
  ]
}